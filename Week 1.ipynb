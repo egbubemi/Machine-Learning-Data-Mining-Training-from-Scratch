{
 "cells": [
  {
   "cell_type": "markdown",
   "id": "705700ec",
   "metadata": {},
   "source": [
    "# This is a level Heading"
   ]
  },
  {
   "cell_type": "markdown",
   "id": "d24eb1b3",
   "metadata": {},
   "source": [
    "## This is a level 2 heading"
   ]
  },
  {
   "cell_type": "raw",
   "id": "12cc225b",
   "metadata": {},
   "source": []
  },
  {
   "cell_type": "raw",
   "id": "3101f250",
   "metadata": {},
   "source": [
    "<html>\n",
    "<a href = \"https:www://www.salford.ac.uk\">Click here</a>\n",
    "</html>"
   ]
  },
  {
   "cell_type": "code",
   "execution_count": 4,
   "id": "bbf4f7d2",
   "metadata": {},
   "outputs": [
    {
     "name": "stdout",
     "output_type": "stream",
     "text": [
      "Hello World\n"
     ]
    }
   ],
   "source": [
    "print(\"Hello World\")"
   ]
  },
  {
   "cell_type": "code",
   "execution_count": 6,
   "id": "421f9824",
   "metadata": {},
   "outputs": [
    {
     "name": "stdout",
     "output_type": "stream",
     "text": [
      "a b c\n",
      "a,b,c\n",
      "a-b-c\n"
     ]
    }
   ],
   "source": [
    "print('a','b','c')\n",
    "print('a','b','c', sep=',')\n",
    "print('a','b','c', sep='-')"
   ]
  },
  {
   "cell_type": "code",
   "execution_count": 8,
   "id": "3b844719",
   "metadata": {},
   "outputs": [
    {
     "name": "stdout",
     "output_type": "stream",
     "text": [
      "hello\n",
      "world!\n"
     ]
    }
   ],
   "source": [
    "print('hello')\n",
    "print('world!')"
   ]
  },
  {
   "cell_type": "code",
   "execution_count": 10,
   "id": "1a829f6e",
   "metadata": {},
   "outputs": [
    {
     "name": "stdout",
     "output_type": "stream",
     "text": [
      "Hello\n",
      "world!\n"
     ]
    }
   ],
   "source": [
    "print('Hello\\nworld!')"
   ]
  },
  {
   "cell_type": "code",
   "execution_count": 12,
   "id": "8bd124b0",
   "metadata": {},
   "outputs": [
    {
     "name": "stdout",
     "output_type": "stream",
     "text": [
      "\n",
      "**************************************\n",
      "*                                    *\n",
      "*      Learning Python               *\n",
      "*                                    *\n",
      "**************************************\n",
      "\n"
     ]
    }
   ],
   "source": [
    "print('''\n",
    "**************************************\n",
    "*                                    *\n",
    "*      Learning Python               *\n",
    "*                                    *\n",
    "**************************************\n",
    "'''\n",
    ")"
   ]
  },
  {
   "cell_type": "code",
   "execution_count": 13,
   "id": "8dba8bcd",
   "metadata": {},
   "outputs": [
    {
     "name": "stdout",
     "output_type": "stream",
     "text": [
      "week1 Workshop\n"
     ]
    }
   ],
   "source": [
    "print('week1'+' '+'Workshop')"
   ]
  },
  {
   "cell_type": "code",
   "execution_count": 14,
   "id": "80c3de60",
   "metadata": {},
   "outputs": [
    {
     "name": "stdout",
     "output_type": "stream",
     "text": [
      "2\n",
      "3.14\n"
     ]
    }
   ],
   "source": [
    "msg = 'Area'\n",
    "r = 2\n",
    "pi = 3.14\n",
    "print(r)\n",
    "print(pi)"
   ]
  },
  {
   "cell_type": "code",
   "execution_count": 16,
   "id": "36de9e16",
   "metadata": {},
   "outputs": [
    {
     "data": {
      "text/plain": [
       "float"
      ]
     },
     "execution_count": 16,
     "metadata": {},
     "output_type": "execute_result"
    }
   ],
   "source": [
    "type(r)\n",
    "type(msg)\n",
    "type(pi)"
   ]
  },
  {
   "cell_type": "code",
   "execution_count": 17,
   "id": "f7e82948",
   "metadata": {},
   "outputs": [],
   "source": [
    "x = str(2)\n",
    "y = int(2)\n",
    "z = float(2)"
   ]
  },
  {
   "cell_type": "code",
   "execution_count": 19,
   "id": "275d1868",
   "metadata": {},
   "outputs": [
    {
     "data": {
      "text/plain": [
       "float"
      ]
     },
     "execution_count": 19,
     "metadata": {},
     "output_type": "execute_result"
    }
   ],
   "source": [
    "type(x)\n",
    "type(y)\n",
    "type(z)"
   ]
  },
  {
   "cell_type": "code",
   "execution_count": 22,
   "id": "7e3b3317",
   "metadata": {},
   "outputs": [
    {
     "name": "stdout",
     "output_type": "stream",
     "text": [
      "The addition of x and y is: + str(add)\n",
      "The subtraction of y from x is: + str(sub)\n",
      "The multiplication of x and y is: + str(mul)\n",
      "The floating division of x by y is: + str(fdiv)\n",
      "The remainder of y/x: 1\n",
      "x to the power of y: 81\n"
     ]
    }
   ],
   "source": [
    "x = 3\n",
    "y = 4\n",
    "add = x + y\n",
    "sub = x - y\n",
    "mul =x*y\n",
    "fdiv = x/y\n",
    "idiv = x//y\n",
    "mod = y%x\n",
    "power = x**y\n",
    "\n",
    "print('The addition of x and y is: + str(add)')\n",
    "print('The subtraction of y from x is: + str(sub)')\n",
    "print('The multiplication of x and y is: + str(mul)')\n",
    "print('The floating division of x by y is: + str(fdiv)')\n",
    "print('The remainder of y/x: ' + str(mod))\n",
    "print('x to the power of y: ' + str(power))\n"
   ]
  },
  {
   "cell_type": "code",
   "execution_count": 24,
   "id": "c87cbbdb",
   "metadata": {},
   "outputs": [
    {
     "name": "stdout",
     "output_type": "stream",
     "text": [
      "e1=9\n",
      "e2=24\n",
      "e3=14.0\n",
      "e4=25.0\n",
      "e5=1.0\n",
      "e6=1.0\n",
      "e7=1.0\n",
      "e8=1.5\n",
      "e9=1.0\n",
      "e10=7.5\n"
     ]
    }
   ],
   "source": [
    "e1 = 15-3*2\n",
    "e2=(15-3)*2\n",
    "e3=15-3**2/9\n",
    "e4=15/3*5\n",
    "e5=15/(3*5)\n",
    "e6=15%(4/2)\n",
    "e7=15%(4/2)\n",
    "e8=15//4/2\n",
    "e9=15/4//2\n",
    "e10=15/(4//2)\n",
    "\n",
    "print('e1', e1, sep='=')\n",
    "print('e2', e2, sep='=')\n",
    "print('e3', e3, sep='=')\n",
    "print('e4', e4, sep='=')\n",
    "print('e5', e5, sep='=')\n",
    "print('e6', e6, sep='=')\n",
    "print('e7', e7, sep='=')\n",
    "print('e8', e8, sep='=')\n",
    "print('e9', e9, sep='=')\n",
    "print('e10', e10, sep='=')"
   ]
  },
  {
   "cell_type": "code",
   "execution_count": 27,
   "id": "1be2eff3",
   "metadata": {},
   "outputs": [
    {
     "name": "stdout",
     "output_type": "stream",
     "text": [
      "sum: 11\n"
     ]
    }
   ],
   "source": [
    "x = 5\n",
    "y = 6\n",
    "print('sum:' ,x+y)"
   ]
  },
  {
   "cell_type": "code",
   "execution_count": 30,
   "id": "5de7b21d",
   "metadata": {},
   "outputs": [
    {
     "name": "stdout",
     "output_type": "stream",
     "text": [
      "[0 1 2 3 4 5]\n"
     ]
    }
   ],
   "source": [
    "import numpy as np\n",
    "a = np.arange(6)\n",
    "print(a)"
   ]
  },
  {
   "cell_type": "code",
   "execution_count": null,
   "id": "d23e085e",
   "metadata": {},
   "outputs": [],
   "source": []
  }
 ],
 "metadata": {
  "kernelspec": {
   "display_name": "Python 3 (ipykernel)",
   "language": "python",
   "name": "python3"
  },
  "language_info": {
   "codemirror_mode": {
    "name": "ipython",
    "version": 3
   },
   "file_extension": ".py",
   "mimetype": "text/x-python",
   "name": "python",
   "nbconvert_exporter": "python",
   "pygments_lexer": "ipython3",
   "version": "3.9.12"
  }
 },
 "nbformat": 4,
 "nbformat_minor": 5
}
